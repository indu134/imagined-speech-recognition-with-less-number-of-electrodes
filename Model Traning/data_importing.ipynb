{
 "cells": [
  {
   "cell_type": "code",
   "execution_count": 29,
   "id": "a506bff2",
   "metadata": {},
   "outputs": [],
   "source": [
    "import os\n",
    "import scipy.io\n",
    "import numpy as np\n",
    "from sklearn.model_selection import train_test_split\n",
    "from sklearn.preprocessing import MultiLabelBinarizer \n",
    "def si(k):\n",
    "    s = k.split(\".\")\n",
    "    return int(s[0])"
   ]
  },
  {
   "cell_type": "code",
   "execution_count": 30,
   "id": "181bb93d",
   "metadata": {},
   "outputs": [],
   "source": [
    "pdir = os.getcwd()"
   ]
  },
  {
   "cell_type": "code",
   "execution_count": 31,
   "id": "f3910aba",
   "metadata": {},
   "outputs": [
    {
     "data": {
      "text/plain": [
       "'/mnt/c/Users/indum/Desktop/fyp_code/lstm 3 words'"
      ]
     },
     "execution_count": 31,
     "metadata": {},
     "output_type": "execute_result"
    }
   ],
   "source": [
    "pdir"
   ]
  },
  {
   "cell_type": "code",
   "execution_count": 32,
   "id": "a6080322",
   "metadata": {},
   "outputs": [],
   "source": [
    "file = \"data\""
   ]
  },
  {
   "cell_type": "code",
   "execution_count": 33,
   "id": "18f2f53d",
   "metadata": {},
   "outputs": [],
   "source": [
    "cwd = pdir+\"/\"+file "
   ]
  },
  {
   "cell_type": "code",
   "execution_count": 34,
   "id": "55d13591",
   "metadata": {},
   "outputs": [
    {
     "data": {
      "text/plain": [
       "'/mnt/c/Users/indum/Desktop/fyp_code/lstm 3 words/data'"
      ]
     },
     "execution_count": 34,
     "metadata": {},
     "output_type": "execute_result"
    }
   ],
   "source": [
    "cwd"
   ]
  },
  {
   "cell_type": "code",
   "execution_count": 35,
   "id": "d56edc2d",
   "metadata": {},
   "outputs": [
    {
     "name": "stdout",
     "output_type": "stream",
     "text": [
      "['backward', 'come', 'down', 'help', 'left', 'light', 'medicine', 'no', 'pain', 'right', 'spoon', 'stop', 'telephone', 'television', 'toilet', 'upward', 'water', 'yes']\n"
     ]
    }
   ],
   "source": [
    "l1 = os.listdir(cwd)\n",
    "X = []\n",
    "Y = []\n",
    "print(l1)"
   ]
  },
  {
   "cell_type": "code",
   "execution_count": 36,
   "id": "e480c1c5",
   "metadata": {},
   "outputs": [
    {
     "name": "stdout",
     "output_type": "stream",
     "text": [
      "['Ameya', 'Mitesh', 'Mukund', 'Naga', 'Rohit', 'Udit']\n",
      "['Ameya', 'Mitesh', 'Mukund', 'Naga', 'Rohit', 'Udit']\n",
      "['Ameya', 'Mitesh', 'Mukund', 'Naga', 'Rohit', 'Udit']\n",
      "['Ameya', 'Mitesh', 'Mukund', 'Naga', 'Rohit', 'Udit']\n",
      "['Ameya', 'Mitesh', 'Mukund', 'Naga', 'Rohit', 'Udit']\n",
      "['Ameya', 'Mitesh', 'Mukund', 'Naga', 'Rohit', 'Udit']\n",
      "['Ameya', 'Mitesh', 'Mukund', 'Naga', 'Rohit', 'Udit']\n",
      "['Ameya', 'Mitesh', 'Mukund', 'Naga', 'Rohit', 'Udit']\n",
      "['Ameya', 'Mitesh', 'Mukund', 'Naga', 'Rohit', 'Udit']\n",
      "['Ameya', 'Mitesh', 'Mukund', 'Naga', 'Rohit', 'Udit']\n",
      "['Ameya', 'Mitesh', 'Mukund', 'Naga', 'Rohit', 'Udit']\n",
      "['Ameya', 'Mitesh', 'Mukund', 'Naga', 'Rohit', 'Udit']\n",
      "['Ameya', 'Mitesh', 'Mukund', 'Naga', 'Rohit', 'Udit']\n",
      "['Ameya', 'Mitesh', 'Mukund', 'Naga', 'Rohit', 'Udit']\n",
      "['Ameya', 'Mitesh', 'Mukund', 'Naga', 'Rohit', 'Udit']\n",
      "['Ameya', 'Mitesh', 'Mukund', 'Naga', 'Rohit', 'Udit']\n",
      "['Ameya', 'Mitesh', 'Mukund', 'Naga', 'Rohit', 'Udit']\n",
      "['Ameya', 'Mitesh', 'Mukund', 'Naga', 'Rohit', 'Udit']\n"
     ]
    }
   ],
   "source": [
    "for i in l1:\n",
    "    tmp1 = os.path.join(cwd,i)\n",
    "    l2 = os.listdir(tmp1)\n",
    "    print(l2)\n",
    "    for j in l2:\n",
    "        tmp2 = os.path.join(tmp1,j)\n",
    "        l3 = os.listdir(tmp2)\n",
    "        l3.sort(key=si)\n",
    "        tmp_x = []\n",
    "        tmp_y = -1\n",
    "        for file in l3:\n",
    "            if file.endswith(\".mat\"):\n",
    "                data = scipy.io.loadmat(os.path.join(tmp2,file))\n",
    "                s = data['sequence_data']\n",
    "                Y.append(data['y'][0])\n",
    "                X.append(s)\n",
    "                    \n",
    "            \n",
    "                    \n",
    "            "
   ]
  },
  {
   "cell_type": "code",
   "execution_count": 37,
   "id": "df863f78",
   "metadata": {},
   "outputs": [],
   "source": [
    "d = {}\n",
    "for i in X:\n",
    "    if i.shape in d:\n",
    "        d[i.shape] += 1\n",
    "    else:\n",
    "        d[i.shape] = 1\n",
    "    "
   ]
  },
  {
   "cell_type": "code",
   "execution_count": 38,
   "id": "59f5174a",
   "metadata": {},
   "outputs": [
    {
     "data": {
      "text/plain": [
       "{(1280, 19): 1278}"
      ]
     },
     "execution_count": 38,
     "metadata": {},
     "output_type": "execute_result"
    }
   ],
   "source": [
    "d"
   ]
  },
  {
   "cell_type": "code",
   "execution_count": 39,
   "id": "e8832aa4",
   "metadata": {},
   "outputs": [],
   "source": [
    "x_tmp = []\n",
    "y_tmp = []\n",
    "for i in range(len(X)):\n",
    "    if Y[i] in [5,11,12]:\n",
    "        x_tmp.append(X[i])\n",
    "        if Y[i] == 5:\n",
    "            y_tmp.append(Y[i] - 5)\n",
    "        # if Y[i] == 3:\n",
    "        #     y_tmp.append(Y[i] - 2)\n",
    "        # if Y[i] == 4:\n",
    "        #     y_tmp.append(Y[i] - 2)\n",
    "        # if Y[i] == 5:\n",
    "        #     y_tmp.append(Y[i] - 3)\n",
    "        # if Y[i] == 7:\n",
    "        #     y_tmp.append(Y[i] - 4)\n",
    "        # if Y[i] == 9:\n",
    "        #     y_tmp.append(Y[i] - 5)\n",
    "        if Y[i] == 12:\n",
    "            y_tmp.append(Y[i] - 10)\n",
    "        if Y[i] == 11:\n",
    "            y_tmp.append(Y[i] - 10)\n",
    "        # if Y[i] == 13:\n",
    "        #     y_tmp.append(Y[i] - 7)\n",
    "        # if Y[i] == 15:\n",
    "        #     y_tmp.append(Y[i] - 8)\n",
    "            \n",
    "            \n",
    "            \n",
    "            \n",
    "        "
   ]
  },
  {
   "cell_type": "code",
   "execution_count": 40,
   "id": "55121510",
   "metadata": {},
   "outputs": [],
   "source": [
    "X = np.array(x_tmp)"
   ]
  },
  {
   "cell_type": "code",
   "execution_count": 41,
   "id": "a72afc64",
   "metadata": {},
   "outputs": [
    {
     "data": {
      "text/plain": [
       "(213, 1280, 19)"
      ]
     },
     "execution_count": 41,
     "metadata": {},
     "output_type": "execute_result"
    }
   ],
   "source": [
    "X.shape"
   ]
  },
  {
   "cell_type": "code",
   "execution_count": 42,
   "id": "2cb66822",
   "metadata": {},
   "outputs": [],
   "source": [
    "Y = np.array(y_tmp)"
   ]
  },
  {
   "cell_type": "code",
   "execution_count": 43,
   "id": "fb0d0c22",
   "metadata": {},
   "outputs": [],
   "source": [
    "shape_y = Y.shape"
   ]
  },
  {
   "cell_type": "code",
   "execution_count": 44,
   "id": "7717dd84",
   "metadata": {},
   "outputs": [
    {
     "data": {
      "text/plain": [
       "(213, 1)"
      ]
     },
     "execution_count": 44,
     "metadata": {},
     "output_type": "execute_result"
    }
   ],
   "source": [
    "shape_y"
   ]
  },
  {
   "cell_type": "code",
   "execution_count": null,
   "id": "0dced68c-3278-456a-88f7-317833314343",
   "metadata": {},
   "outputs": [],
   "source": []
  },
  {
   "cell_type": "code",
   "execution_count": 45,
   "id": "d87e5d29-0194-4457-a522-c83188e21de9",
   "metadata": {},
   "outputs": [],
   "source": [
    "# X = np.array(X)\n",
    "# Y = np.array(Y)"
   ]
  },
  {
   "cell_type": "code",
   "execution_count": 46,
   "id": "6ade814c",
   "metadata": {},
   "outputs": [],
   "source": [
    "np.save(\"X_data\",X)"
   ]
  },
  {
   "cell_type": "code",
   "execution_count": 47,
   "id": "cae1a309",
   "metadata": {},
   "outputs": [],
   "source": [
    "np.save(\"Y_data\",Y)"
   ]
  },
  {
   "cell_type": "code",
   "execution_count": 48,
   "id": "d7db3755",
   "metadata": {},
   "outputs": [],
   "source": [
    "X_train, X_test, y_train, y_test = train_test_split(X, Y, test_size=0.1, random_state=140, stratify=Y)"
   ]
  },
  {
   "cell_type": "code",
   "execution_count": 49,
   "id": "738860f8",
   "metadata": {},
   "outputs": [],
   "source": [
    "np.save(\"EEG_X_train\",X_train)\n",
    "np.save(\"EEG_X_test\",X_test)\n",
    "np.save(\"EEG_y_train\",y_train)\n",
    "np.save(\"EEG_y_test\",y_test)"
   ]
  },
  {
   "cell_type": "code",
   "execution_count": 50,
   "id": "fe493abd",
   "metadata": {},
   "outputs": [
    {
     "data": {
      "text/plain": [
       "(191, 1280, 19)"
      ]
     },
     "execution_count": 50,
     "metadata": {},
     "output_type": "execute_result"
    }
   ],
   "source": [
    "X_train.shape"
   ]
  },
  {
   "cell_type": "code",
   "execution_count": 51,
   "id": "9ba9f9c8",
   "metadata": {},
   "outputs": [
    {
     "data": {
      "text/plain": [
       "(22, 1280, 19)"
      ]
     },
     "execution_count": 51,
     "metadata": {},
     "output_type": "execute_result"
    }
   ],
   "source": [
    "X_test.shape"
   ]
  },
  {
   "cell_type": "code",
   "execution_count": 52,
   "id": "f6f95859",
   "metadata": {},
   "outputs": [
    {
     "data": {
      "text/plain": [
       "(191, 1)"
      ]
     },
     "execution_count": 52,
     "metadata": {},
     "output_type": "execute_result"
    }
   ],
   "source": [
    "y_train.shape"
   ]
  },
  {
   "cell_type": "code",
   "execution_count": 53,
   "id": "65b8f2df",
   "metadata": {},
   "outputs": [
    {
     "data": {
      "text/plain": [
       "(22, 1)"
      ]
     },
     "execution_count": 53,
     "metadata": {},
     "output_type": "execute_result"
    }
   ],
   "source": [
    "y_test.shape"
   ]
  },
  {
   "cell_type": "code",
   "execution_count": 54,
   "id": "ea7d3d84",
   "metadata": {},
   "outputs": [
    {
     "data": {
      "text/plain": [
       "array([1], dtype=uint8)"
      ]
     },
     "execution_count": 54,
     "metadata": {},
     "output_type": "execute_result"
    }
   ],
   "source": [
    "y_test[0]"
   ]
  },
  {
   "cell_type": "code",
   "execution_count": 55,
   "id": "4bf45be5",
   "metadata": {},
   "outputs": [
    {
     "data": {
      "text/plain": [
       "array([[[-3.71666764e-01, -3.76794907e-01, -4.08675889e-01, ...,\n",
       "         -4.16275426e-01, -3.96442489e-01, -4.39753668e-01],\n",
       "        [-1.48143048e+00, -1.50143404e+00, -1.62829693e+00, ...,\n",
       "         -1.65821098e+00, -1.58096692e+00, -1.75245328e+00],\n",
       "        [-1.80675053e+00, -1.83012010e+00, -1.98379703e+00, ...,\n",
       "         -2.02009618e+00, -1.93109193e+00, -2.13591320e+00],\n",
       "        ...,\n",
       "        [-4.49571287e-03, -3.28273026e-03,  1.65287051e-03, ...,\n",
       "          1.59818724e-02, -5.34283409e-07,  2.04934771e-05],\n",
       "        [-3.52106345e-03,  2.44861507e-03,  8.43080750e-03, ...,\n",
       "          2.98115598e-02,  7.20037750e-03,  4.56648185e-05],\n",
       "        [ 6.37030020e-04,  7.18117965e-03,  9.91783868e-03, ...,\n",
       "          3.24791809e-02,  1.02321412e-02, -7.12589472e-05]]])"
      ]
     },
     "execution_count": 55,
     "metadata": {},
     "output_type": "execute_result"
    }
   ],
   "source": [
    "X[1:2,:]"
   ]
  },
  {
   "cell_type": "code",
   "execution_count": null,
   "id": "4dfdbcbe",
   "metadata": {},
   "outputs": [],
   "source": []
  },
  {
   "cell_type": "code",
   "execution_count": 56,
   "id": "61e4a798",
   "metadata": {},
   "outputs": [
    {
     "name": "stdout",
     "output_type": "stream",
     "text": [
      "[[1]\n",
      " [0]\n",
      " [0]\n",
      " [0]\n",
      " [1]\n",
      " [2]\n",
      " [0]\n",
      " [0]\n",
      " [1]\n",
      " [2]\n",
      " [0]\n",
      " [1]\n",
      " [0]\n",
      " [2]\n",
      " [2]\n",
      " [1]\n",
      " [2]\n",
      " [1]\n",
      " [0]\n",
      " [1]\n",
      " [2]\n",
      " [2]]\n"
     ]
    }
   ],
   "source": [
    "print(y_test)"
   ]
  },
  {
   "cell_type": "code",
   "execution_count": null,
   "id": "6eb3d775",
   "metadata": {},
   "outputs": [],
   "source": []
  },
  {
   "cell_type": "code",
   "execution_count": null,
   "id": "91ca6427",
   "metadata": {},
   "outputs": [],
   "source": []
  },
  {
   "cell_type": "code",
   "execution_count": null,
   "id": "3fd3c179",
   "metadata": {},
   "outputs": [],
   "source": []
  },
  {
   "cell_type": "code",
   "execution_count": null,
   "id": "846cc017",
   "metadata": {},
   "outputs": [],
   "source": []
  },
  {
   "cell_type": "code",
   "execution_count": null,
   "id": "871e38e5",
   "metadata": {},
   "outputs": [],
   "source": []
  }
 ],
 "metadata": {
  "kernelspec": {
   "display_name": "Python 3 (ipykernel)",
   "language": "python",
   "name": "python3"
  },
  "language_info": {
   "codemirror_mode": {
    "name": "ipython",
    "version": 3
   },
   "file_extension": ".py",
   "mimetype": "text/x-python",
   "name": "python",
   "nbconvert_exporter": "python",
   "pygments_lexer": "ipython3",
   "version": "3.10.13"
  }
 },
 "nbformat": 4,
 "nbformat_minor": 5
}
